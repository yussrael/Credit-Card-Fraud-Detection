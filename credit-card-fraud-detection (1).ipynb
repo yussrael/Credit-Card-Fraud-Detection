{
 "cells": [
  {
   "cell_type": "code",
   "execution_count": 1,
   "id": "c86d6dd2",
   "metadata": {
    "_cell_guid": "b1076dfc-b9ad-4769-8c92-a6c4dae69d19",
    "_uuid": "8f2839f25d086af736a60e9eeb907d3b93b6e0e5",
    "execution": {
     "iopub.execute_input": "2023-01-30T22:31:14.561162Z",
     "iopub.status.busy": "2023-01-30T22:31:14.560669Z",
     "iopub.status.idle": "2023-01-30T22:31:17.004746Z",
     "shell.execute_reply": "2023-01-30T22:31:17.003445Z"
    },
    "papermill": {
     "duration": 2.460598,
     "end_time": "2023-01-30T22:31:17.007738",
     "exception": false,
     "start_time": "2023-01-30T22:31:14.547140",
     "status": "completed"
    },
    "tags": []
   },
   "outputs": [
    {
     "name": "stdout",
     "output_type": "stream",
     "text": [
      "/kaggle/input/creditcardfraud/creditcard.csv\n"
     ]
    }
   ],
   "source": [
    "# This Python 3 environment comes with many helpful analytics libraries installed\n",
    "# It is defined by the kaggle/python Docker image: https://github.com/kaggle/docker-python\n",
    "# For example, here's several helpful packages to load\n",
    "\n",
    "import numpy as np # linear algebra\n",
    "import pandas as pd # data processing, CSV file I/O (e.g. pd.read_csv)\n",
    "import matplotlib.pyplot as plt\n",
    "import seaborn as sns\n",
    "import plotly.express as  px\n",
    "# Input data files are available in the read-only \"../input/\" directory\n",
    "# For example, running this (by clicking run or pressing Shift+Enter) will list all files under the input directory\n",
    "\n",
    "import os\n",
    "for dirname, _, filenames in os.walk('/kaggle/input'):\n",
    "    for filename in filenames:\n",
    "        print(os.path.join(dirname, filename))\n",
    "\n",
    "# You can write up to 20GB to the current directory (/kaggle/working/) that gets preserved as output when you create a version using \"Save & Run All\" \n",
    "# You can also write temporary files to /kaggle/temp/, but they won't be saved outside of the current session"
   ]
  },
  {
   "cell_type": "markdown",
   "id": "efe63913",
   "metadata": {
    "papermill": {
     "duration": 0.009556,
     "end_time": "2023-01-30T22:31:17.027397",
     "exception": false,
     "start_time": "2023-01-30T22:31:17.017841",
     "status": "completed"
    },
    "tags": []
   },
   "source": [
    "## Data exploration"
   ]
  },
  {
   "cell_type": "code",
   "execution_count": 2,
   "id": "6978023d",
   "metadata": {
    "execution": {
     "iopub.execute_input": "2023-01-30T22:31:17.051219Z",
     "iopub.status.busy": "2023-01-30T22:31:17.050547Z",
     "iopub.status.idle": "2023-01-30T22:31:21.940232Z",
     "shell.execute_reply": "2023-01-30T22:31:21.938973Z"
    },
    "papermill": {
     "duration": 4.905373,
     "end_time": "2023-01-30T22:31:21.942869",
     "exception": false,
     "start_time": "2023-01-30T22:31:17.037496",
     "status": "completed"
    },
    "tags": []
   },
   "outputs": [
    {
     "data": {
      "text/html": [
       "<div>\n",
       "<style scoped>\n",
       "    .dataframe tbody tr th:only-of-type {\n",
       "        vertical-align: middle;\n",
       "    }\n",
       "\n",
       "    .dataframe tbody tr th {\n",
       "        vertical-align: top;\n",
       "    }\n",
       "\n",
       "    .dataframe thead th {\n",
       "        text-align: right;\n",
       "    }\n",
       "</style>\n",
       "<table border=\"1\" class=\"dataframe\">\n",
       "  <thead>\n",
       "    <tr style=\"text-align: right;\">\n",
       "      <th></th>\n",
       "      <th>Time</th>\n",
       "      <th>V1</th>\n",
       "      <th>V2</th>\n",
       "      <th>V3</th>\n",
       "      <th>V4</th>\n",
       "      <th>V5</th>\n",
       "      <th>V6</th>\n",
       "      <th>V7</th>\n",
       "      <th>V8</th>\n",
       "      <th>V9</th>\n",
       "      <th>...</th>\n",
       "      <th>V21</th>\n",
       "      <th>V22</th>\n",
       "      <th>V23</th>\n",
       "      <th>V24</th>\n",
       "      <th>V25</th>\n",
       "      <th>V26</th>\n",
       "      <th>V27</th>\n",
       "      <th>V28</th>\n",
       "      <th>Amount</th>\n",
       "      <th>Class</th>\n",
       "    </tr>\n",
       "  </thead>\n",
       "  <tbody>\n",
       "    <tr>\n",
       "      <th>0</th>\n",
       "      <td>0.0</td>\n",
       "      <td>-1.359807</td>\n",
       "      <td>-0.072781</td>\n",
       "      <td>2.536347</td>\n",
       "      <td>1.378155</td>\n",
       "      <td>-0.338321</td>\n",
       "      <td>0.462388</td>\n",
       "      <td>0.239599</td>\n",
       "      <td>0.098698</td>\n",
       "      <td>0.363787</td>\n",
       "      <td>...</td>\n",
       "      <td>-0.018307</td>\n",
       "      <td>0.277838</td>\n",
       "      <td>-0.110474</td>\n",
       "      <td>0.066928</td>\n",
       "      <td>0.128539</td>\n",
       "      <td>-0.189115</td>\n",
       "      <td>0.133558</td>\n",
       "      <td>-0.021053</td>\n",
       "      <td>149.62</td>\n",
       "      <td>0</td>\n",
       "    </tr>\n",
       "    <tr>\n",
       "      <th>1</th>\n",
       "      <td>0.0</td>\n",
       "      <td>1.191857</td>\n",
       "      <td>0.266151</td>\n",
       "      <td>0.166480</td>\n",
       "      <td>0.448154</td>\n",
       "      <td>0.060018</td>\n",
       "      <td>-0.082361</td>\n",
       "      <td>-0.078803</td>\n",
       "      <td>0.085102</td>\n",
       "      <td>-0.255425</td>\n",
       "      <td>...</td>\n",
       "      <td>-0.225775</td>\n",
       "      <td>-0.638672</td>\n",
       "      <td>0.101288</td>\n",
       "      <td>-0.339846</td>\n",
       "      <td>0.167170</td>\n",
       "      <td>0.125895</td>\n",
       "      <td>-0.008983</td>\n",
       "      <td>0.014724</td>\n",
       "      <td>2.69</td>\n",
       "      <td>0</td>\n",
       "    </tr>\n",
       "    <tr>\n",
       "      <th>2</th>\n",
       "      <td>1.0</td>\n",
       "      <td>-1.358354</td>\n",
       "      <td>-1.340163</td>\n",
       "      <td>1.773209</td>\n",
       "      <td>0.379780</td>\n",
       "      <td>-0.503198</td>\n",
       "      <td>1.800499</td>\n",
       "      <td>0.791461</td>\n",
       "      <td>0.247676</td>\n",
       "      <td>-1.514654</td>\n",
       "      <td>...</td>\n",
       "      <td>0.247998</td>\n",
       "      <td>0.771679</td>\n",
       "      <td>0.909412</td>\n",
       "      <td>-0.689281</td>\n",
       "      <td>-0.327642</td>\n",
       "      <td>-0.139097</td>\n",
       "      <td>-0.055353</td>\n",
       "      <td>-0.059752</td>\n",
       "      <td>378.66</td>\n",
       "      <td>0</td>\n",
       "    </tr>\n",
       "    <tr>\n",
       "      <th>3</th>\n",
       "      <td>1.0</td>\n",
       "      <td>-0.966272</td>\n",
       "      <td>-0.185226</td>\n",
       "      <td>1.792993</td>\n",
       "      <td>-0.863291</td>\n",
       "      <td>-0.010309</td>\n",
       "      <td>1.247203</td>\n",
       "      <td>0.237609</td>\n",
       "      <td>0.377436</td>\n",
       "      <td>-1.387024</td>\n",
       "      <td>...</td>\n",
       "      <td>-0.108300</td>\n",
       "      <td>0.005274</td>\n",
       "      <td>-0.190321</td>\n",
       "      <td>-1.175575</td>\n",
       "      <td>0.647376</td>\n",
       "      <td>-0.221929</td>\n",
       "      <td>0.062723</td>\n",
       "      <td>0.061458</td>\n",
       "      <td>123.50</td>\n",
       "      <td>0</td>\n",
       "    </tr>\n",
       "    <tr>\n",
       "      <th>4</th>\n",
       "      <td>2.0</td>\n",
       "      <td>-1.158233</td>\n",
       "      <td>0.877737</td>\n",
       "      <td>1.548718</td>\n",
       "      <td>0.403034</td>\n",
       "      <td>-0.407193</td>\n",
       "      <td>0.095921</td>\n",
       "      <td>0.592941</td>\n",
       "      <td>-0.270533</td>\n",
       "      <td>0.817739</td>\n",
       "      <td>...</td>\n",
       "      <td>-0.009431</td>\n",
       "      <td>0.798278</td>\n",
       "      <td>-0.137458</td>\n",
       "      <td>0.141267</td>\n",
       "      <td>-0.206010</td>\n",
       "      <td>0.502292</td>\n",
       "      <td>0.219422</td>\n",
       "      <td>0.215153</td>\n",
       "      <td>69.99</td>\n",
       "      <td>0</td>\n",
       "    </tr>\n",
       "  </tbody>\n",
       "</table>\n",
       "<p>5 rows × 31 columns</p>\n",
       "</div>"
      ],
      "text/plain": [
       "   Time        V1        V2        V3        V4        V5        V6        V7  \\\n",
       "0   0.0 -1.359807 -0.072781  2.536347  1.378155 -0.338321  0.462388  0.239599   \n",
       "1   0.0  1.191857  0.266151  0.166480  0.448154  0.060018 -0.082361 -0.078803   \n",
       "2   1.0 -1.358354 -1.340163  1.773209  0.379780 -0.503198  1.800499  0.791461   \n",
       "3   1.0 -0.966272 -0.185226  1.792993 -0.863291 -0.010309  1.247203  0.237609   \n",
       "4   2.0 -1.158233  0.877737  1.548718  0.403034 -0.407193  0.095921  0.592941   \n",
       "\n",
       "         V8        V9  ...       V21       V22       V23       V24       V25  \\\n",
       "0  0.098698  0.363787  ... -0.018307  0.277838 -0.110474  0.066928  0.128539   \n",
       "1  0.085102 -0.255425  ... -0.225775 -0.638672  0.101288 -0.339846  0.167170   \n",
       "2  0.247676 -1.514654  ...  0.247998  0.771679  0.909412 -0.689281 -0.327642   \n",
       "3  0.377436 -1.387024  ... -0.108300  0.005274 -0.190321 -1.175575  0.647376   \n",
       "4 -0.270533  0.817739  ... -0.009431  0.798278 -0.137458  0.141267 -0.206010   \n",
       "\n",
       "        V26       V27       V28  Amount  Class  \n",
       "0 -0.189115  0.133558 -0.021053  149.62      0  \n",
       "1  0.125895 -0.008983  0.014724    2.69      0  \n",
       "2 -0.139097 -0.055353 -0.059752  378.66      0  \n",
       "3 -0.221929  0.062723  0.061458  123.50      0  \n",
       "4  0.502292  0.219422  0.215153   69.99      0  \n",
       "\n",
       "[5 rows x 31 columns]"
      ]
     },
     "execution_count": 2,
     "metadata": {},
     "output_type": "execute_result"
    }
   ],
   "source": [
    "data = pd.read_csv('/kaggle/input/creditcardfraud/creditcard.csv')\n",
    "data.head()"
   ]
  },
  {
   "cell_type": "code",
   "execution_count": 3,
   "id": "0f807567",
   "metadata": {
    "execution": {
     "iopub.execute_input": "2023-01-30T22:31:21.964801Z",
     "iopub.status.busy": "2023-01-30T22:31:21.964394Z",
     "iopub.status.idle": "2023-01-30T22:31:21.972630Z",
     "shell.execute_reply": "2023-01-30T22:31:21.971278Z"
    },
    "papermill": {
     "duration": 0.022028,
     "end_time": "2023-01-30T22:31:21.975021",
     "exception": false,
     "start_time": "2023-01-30T22:31:21.952993",
     "status": "completed"
    },
    "tags": []
   },
   "outputs": [
    {
     "data": {
      "text/plain": [
       "(284807, 31)"
      ]
     },
     "execution_count": 3,
     "metadata": {},
     "output_type": "execute_result"
    }
   ],
   "source": [
    "data.shape"
   ]
  },
  {
   "cell_type": "code",
   "execution_count": 4,
   "id": "b492a742",
   "metadata": {
    "execution": {
     "iopub.execute_input": "2023-01-30T22:31:21.997983Z",
     "iopub.status.busy": "2023-01-30T22:31:21.997039Z",
     "iopub.status.idle": "2023-01-30T22:31:22.044133Z",
     "shell.execute_reply": "2023-01-30T22:31:22.042230Z"
    },
    "papermill": {
     "duration": 0.061428,
     "end_time": "2023-01-30T22:31:22.046719",
     "exception": false,
     "start_time": "2023-01-30T22:31:21.985291",
     "status": "completed"
    },
    "tags": []
   },
   "outputs": [
    {
     "name": "stdout",
     "output_type": "stream",
     "text": [
      "<class 'pandas.core.frame.DataFrame'>\n",
      "RangeIndex: 284807 entries, 0 to 284806\n",
      "Data columns (total 31 columns):\n",
      " #   Column  Non-Null Count   Dtype  \n",
      "---  ------  --------------   -----  \n",
      " 0   Time    284807 non-null  float64\n",
      " 1   V1      284807 non-null  float64\n",
      " 2   V2      284807 non-null  float64\n",
      " 3   V3      284807 non-null  float64\n",
      " 4   V4      284807 non-null  float64\n",
      " 5   V5      284807 non-null  float64\n",
      " 6   V6      284807 non-null  float64\n",
      " 7   V7      284807 non-null  float64\n",
      " 8   V8      284807 non-null  float64\n",
      " 9   V9      284807 non-null  float64\n",
      " 10  V10     284807 non-null  float64\n",
      " 11  V11     284807 non-null  float64\n",
      " 12  V12     284807 non-null  float64\n",
      " 13  V13     284807 non-null  float64\n",
      " 14  V14     284807 non-null  float64\n",
      " 15  V15     284807 non-null  float64\n",
      " 16  V16     284807 non-null  float64\n",
      " 17  V17     284807 non-null  float64\n",
      " 18  V18     284807 non-null  float64\n",
      " 19  V19     284807 non-null  float64\n",
      " 20  V20     284807 non-null  float64\n",
      " 21  V21     284807 non-null  float64\n",
      " 22  V22     284807 non-null  float64\n",
      " 23  V23     284807 non-null  float64\n",
      " 24  V24     284807 non-null  float64\n",
      " 25  V25     284807 non-null  float64\n",
      " 26  V26     284807 non-null  float64\n",
      " 27  V27     284807 non-null  float64\n",
      " 28  V28     284807 non-null  float64\n",
      " 29  Amount  284807 non-null  float64\n",
      " 30  Class   284807 non-null  int64  \n",
      "dtypes: float64(30), int64(1)\n",
      "memory usage: 67.4 MB\n"
     ]
    }
   ],
   "source": [
    "data.info()"
   ]
  },
  {
   "cell_type": "code",
   "execution_count": 5,
   "id": "37a75e24",
   "metadata": {
    "execution": {
     "iopub.execute_input": "2023-01-30T22:31:22.069483Z",
     "iopub.status.busy": "2023-01-30T22:31:22.069067Z",
     "iopub.status.idle": "2023-01-30T22:31:22.078726Z",
     "shell.execute_reply": "2023-01-30T22:31:22.077766Z"
    },
    "papermill": {
     "duration": 0.02363,
     "end_time": "2023-01-30T22:31:22.081003",
     "exception": false,
     "start_time": "2023-01-30T22:31:22.057373",
     "status": "completed"
    },
    "tags": []
   },
   "outputs": [
    {
     "data": {
      "text/plain": [
       "array([0, 1])"
      ]
     },
     "execution_count": 5,
     "metadata": {},
     "output_type": "execute_result"
    }
   ],
   "source": [
    "data['Class'].unique()"
   ]
  },
  {
   "cell_type": "code",
   "execution_count": 6,
   "id": "8efbbb44",
   "metadata": {
    "execution": {
     "iopub.execute_input": "2023-01-30T22:31:22.103172Z",
     "iopub.status.busy": "2023-01-30T22:31:22.102793Z",
     "iopub.status.idle": "2023-01-30T22:31:22.129400Z",
     "shell.execute_reply": "2023-01-30T22:31:22.128079Z"
    },
    "papermill": {
     "duration": 0.041003,
     "end_time": "2023-01-30T22:31:22.132343",
     "exception": false,
     "start_time": "2023-01-30T22:31:22.091340",
     "status": "completed"
    },
    "tags": []
   },
   "outputs": [
    {
     "data": {
      "text/plain": [
       "Time      0\n",
       "V1        0\n",
       "V2        0\n",
       "V3        0\n",
       "V4        0\n",
       "V5        0\n",
       "V6        0\n",
       "V7        0\n",
       "V8        0\n",
       "V9        0\n",
       "V10       0\n",
       "V11       0\n",
       "V12       0\n",
       "V13       0\n",
       "V14       0\n",
       "V15       0\n",
       "V16       0\n",
       "V17       0\n",
       "V18       0\n",
       "V19       0\n",
       "V20       0\n",
       "V21       0\n",
       "V22       0\n",
       "V23       0\n",
       "V24       0\n",
       "V25       0\n",
       "V26       0\n",
       "V27       0\n",
       "V28       0\n",
       "Amount    0\n",
       "Class     0\n",
       "dtype: int64"
      ]
     },
     "execution_count": 6,
     "metadata": {},
     "output_type": "execute_result"
    }
   ],
   "source": [
    "data.isna().sum()"
   ]
  },
  {
   "cell_type": "code",
   "execution_count": 7,
   "id": "26d2d79d",
   "metadata": {
    "execution": {
     "iopub.execute_input": "2023-01-30T22:31:22.154903Z",
     "iopub.status.busy": "2023-01-30T22:31:22.154499Z",
     "iopub.status.idle": "2023-01-30T22:31:22.673158Z",
     "shell.execute_reply": "2023-01-30T22:31:22.671895Z"
    },
    "papermill": {
     "duration": 0.533199,
     "end_time": "2023-01-30T22:31:22.676086",
     "exception": false,
     "start_time": "2023-01-30T22:31:22.142887",
     "status": "completed"
    },
    "tags": []
   },
   "outputs": [
    {
     "data": {
      "text/html": [
       "<div>\n",
       "<style scoped>\n",
       "    .dataframe tbody tr th:only-of-type {\n",
       "        vertical-align: middle;\n",
       "    }\n",
       "\n",
       "    .dataframe tbody tr th {\n",
       "        vertical-align: top;\n",
       "    }\n",
       "\n",
       "    .dataframe thead th {\n",
       "        text-align: right;\n",
       "    }\n",
       "</style>\n",
       "<table border=\"1\" class=\"dataframe\">\n",
       "  <thead>\n",
       "    <tr style=\"text-align: right;\">\n",
       "      <th></th>\n",
       "      <th>Time</th>\n",
       "      <th>V1</th>\n",
       "      <th>V2</th>\n",
       "      <th>V3</th>\n",
       "      <th>V4</th>\n",
       "      <th>V5</th>\n",
       "      <th>V6</th>\n",
       "      <th>V7</th>\n",
       "      <th>V8</th>\n",
       "      <th>V9</th>\n",
       "      <th>...</th>\n",
       "      <th>V21</th>\n",
       "      <th>V22</th>\n",
       "      <th>V23</th>\n",
       "      <th>V24</th>\n",
       "      <th>V25</th>\n",
       "      <th>V26</th>\n",
       "      <th>V27</th>\n",
       "      <th>V28</th>\n",
       "      <th>Amount</th>\n",
       "      <th>Class</th>\n",
       "    </tr>\n",
       "  </thead>\n",
       "  <tbody>\n",
       "    <tr>\n",
       "      <th>count</th>\n",
       "      <td>284807.000000</td>\n",
       "      <td>2.848070e+05</td>\n",
       "      <td>2.848070e+05</td>\n",
       "      <td>2.848070e+05</td>\n",
       "      <td>2.848070e+05</td>\n",
       "      <td>2.848070e+05</td>\n",
       "      <td>2.848070e+05</td>\n",
       "      <td>2.848070e+05</td>\n",
       "      <td>2.848070e+05</td>\n",
       "      <td>2.848070e+05</td>\n",
       "      <td>...</td>\n",
       "      <td>2.848070e+05</td>\n",
       "      <td>2.848070e+05</td>\n",
       "      <td>2.848070e+05</td>\n",
       "      <td>2.848070e+05</td>\n",
       "      <td>2.848070e+05</td>\n",
       "      <td>2.848070e+05</td>\n",
       "      <td>2.848070e+05</td>\n",
       "      <td>2.848070e+05</td>\n",
       "      <td>284807.000000</td>\n",
       "      <td>284807.000000</td>\n",
       "    </tr>\n",
       "    <tr>\n",
       "      <th>mean</th>\n",
       "      <td>94813.859575</td>\n",
       "      <td>1.168375e-15</td>\n",
       "      <td>3.416908e-16</td>\n",
       "      <td>-1.379537e-15</td>\n",
       "      <td>2.074095e-15</td>\n",
       "      <td>9.604066e-16</td>\n",
       "      <td>1.487313e-15</td>\n",
       "      <td>-5.556467e-16</td>\n",
       "      <td>1.213481e-16</td>\n",
       "      <td>-2.406331e-15</td>\n",
       "      <td>...</td>\n",
       "      <td>1.654067e-16</td>\n",
       "      <td>-3.568593e-16</td>\n",
       "      <td>2.578648e-16</td>\n",
       "      <td>4.473266e-15</td>\n",
       "      <td>5.340915e-16</td>\n",
       "      <td>1.683437e-15</td>\n",
       "      <td>-3.660091e-16</td>\n",
       "      <td>-1.227390e-16</td>\n",
       "      <td>88.349619</td>\n",
       "      <td>0.001727</td>\n",
       "    </tr>\n",
       "    <tr>\n",
       "      <th>std</th>\n",
       "      <td>47488.145955</td>\n",
       "      <td>1.958696e+00</td>\n",
       "      <td>1.651309e+00</td>\n",
       "      <td>1.516255e+00</td>\n",
       "      <td>1.415869e+00</td>\n",
       "      <td>1.380247e+00</td>\n",
       "      <td>1.332271e+00</td>\n",
       "      <td>1.237094e+00</td>\n",
       "      <td>1.194353e+00</td>\n",
       "      <td>1.098632e+00</td>\n",
       "      <td>...</td>\n",
       "      <td>7.345240e-01</td>\n",
       "      <td>7.257016e-01</td>\n",
       "      <td>6.244603e-01</td>\n",
       "      <td>6.056471e-01</td>\n",
       "      <td>5.212781e-01</td>\n",
       "      <td>4.822270e-01</td>\n",
       "      <td>4.036325e-01</td>\n",
       "      <td>3.300833e-01</td>\n",
       "      <td>250.120109</td>\n",
       "      <td>0.041527</td>\n",
       "    </tr>\n",
       "    <tr>\n",
       "      <th>min</th>\n",
       "      <td>0.000000</td>\n",
       "      <td>-5.640751e+01</td>\n",
       "      <td>-7.271573e+01</td>\n",
       "      <td>-4.832559e+01</td>\n",
       "      <td>-5.683171e+00</td>\n",
       "      <td>-1.137433e+02</td>\n",
       "      <td>-2.616051e+01</td>\n",
       "      <td>-4.355724e+01</td>\n",
       "      <td>-7.321672e+01</td>\n",
       "      <td>-1.343407e+01</td>\n",
       "      <td>...</td>\n",
       "      <td>-3.483038e+01</td>\n",
       "      <td>-1.093314e+01</td>\n",
       "      <td>-4.480774e+01</td>\n",
       "      <td>-2.836627e+00</td>\n",
       "      <td>-1.029540e+01</td>\n",
       "      <td>-2.604551e+00</td>\n",
       "      <td>-2.256568e+01</td>\n",
       "      <td>-1.543008e+01</td>\n",
       "      <td>0.000000</td>\n",
       "      <td>0.000000</td>\n",
       "    </tr>\n",
       "    <tr>\n",
       "      <th>25%</th>\n",
       "      <td>54201.500000</td>\n",
       "      <td>-9.203734e-01</td>\n",
       "      <td>-5.985499e-01</td>\n",
       "      <td>-8.903648e-01</td>\n",
       "      <td>-8.486401e-01</td>\n",
       "      <td>-6.915971e-01</td>\n",
       "      <td>-7.682956e-01</td>\n",
       "      <td>-5.540759e-01</td>\n",
       "      <td>-2.086297e-01</td>\n",
       "      <td>-6.430976e-01</td>\n",
       "      <td>...</td>\n",
       "      <td>-2.283949e-01</td>\n",
       "      <td>-5.423504e-01</td>\n",
       "      <td>-1.618463e-01</td>\n",
       "      <td>-3.545861e-01</td>\n",
       "      <td>-3.171451e-01</td>\n",
       "      <td>-3.269839e-01</td>\n",
       "      <td>-7.083953e-02</td>\n",
       "      <td>-5.295979e-02</td>\n",
       "      <td>5.600000</td>\n",
       "      <td>0.000000</td>\n",
       "    </tr>\n",
       "    <tr>\n",
       "      <th>50%</th>\n",
       "      <td>84692.000000</td>\n",
       "      <td>1.810880e-02</td>\n",
       "      <td>6.548556e-02</td>\n",
       "      <td>1.798463e-01</td>\n",
       "      <td>-1.984653e-02</td>\n",
       "      <td>-5.433583e-02</td>\n",
       "      <td>-2.741871e-01</td>\n",
       "      <td>4.010308e-02</td>\n",
       "      <td>2.235804e-02</td>\n",
       "      <td>-5.142873e-02</td>\n",
       "      <td>...</td>\n",
       "      <td>-2.945017e-02</td>\n",
       "      <td>6.781943e-03</td>\n",
       "      <td>-1.119293e-02</td>\n",
       "      <td>4.097606e-02</td>\n",
       "      <td>1.659350e-02</td>\n",
       "      <td>-5.213911e-02</td>\n",
       "      <td>1.342146e-03</td>\n",
       "      <td>1.124383e-02</td>\n",
       "      <td>22.000000</td>\n",
       "      <td>0.000000</td>\n",
       "    </tr>\n",
       "    <tr>\n",
       "      <th>75%</th>\n",
       "      <td>139320.500000</td>\n",
       "      <td>1.315642e+00</td>\n",
       "      <td>8.037239e-01</td>\n",
       "      <td>1.027196e+00</td>\n",
       "      <td>7.433413e-01</td>\n",
       "      <td>6.119264e-01</td>\n",
       "      <td>3.985649e-01</td>\n",
       "      <td>5.704361e-01</td>\n",
       "      <td>3.273459e-01</td>\n",
       "      <td>5.971390e-01</td>\n",
       "      <td>...</td>\n",
       "      <td>1.863772e-01</td>\n",
       "      <td>5.285536e-01</td>\n",
       "      <td>1.476421e-01</td>\n",
       "      <td>4.395266e-01</td>\n",
       "      <td>3.507156e-01</td>\n",
       "      <td>2.409522e-01</td>\n",
       "      <td>9.104512e-02</td>\n",
       "      <td>7.827995e-02</td>\n",
       "      <td>77.165000</td>\n",
       "      <td>0.000000</td>\n",
       "    </tr>\n",
       "    <tr>\n",
       "      <th>max</th>\n",
       "      <td>172792.000000</td>\n",
       "      <td>2.454930e+00</td>\n",
       "      <td>2.205773e+01</td>\n",
       "      <td>9.382558e+00</td>\n",
       "      <td>1.687534e+01</td>\n",
       "      <td>3.480167e+01</td>\n",
       "      <td>7.330163e+01</td>\n",
       "      <td>1.205895e+02</td>\n",
       "      <td>2.000721e+01</td>\n",
       "      <td>1.559499e+01</td>\n",
       "      <td>...</td>\n",
       "      <td>2.720284e+01</td>\n",
       "      <td>1.050309e+01</td>\n",
       "      <td>2.252841e+01</td>\n",
       "      <td>4.584549e+00</td>\n",
       "      <td>7.519589e+00</td>\n",
       "      <td>3.517346e+00</td>\n",
       "      <td>3.161220e+01</td>\n",
       "      <td>3.384781e+01</td>\n",
       "      <td>25691.160000</td>\n",
       "      <td>1.000000</td>\n",
       "    </tr>\n",
       "  </tbody>\n",
       "</table>\n",
       "<p>8 rows × 31 columns</p>\n",
       "</div>"
      ],
      "text/plain": [
       "                Time            V1            V2            V3            V4  \\\n",
       "count  284807.000000  2.848070e+05  2.848070e+05  2.848070e+05  2.848070e+05   \n",
       "mean    94813.859575  1.168375e-15  3.416908e-16 -1.379537e-15  2.074095e-15   \n",
       "std     47488.145955  1.958696e+00  1.651309e+00  1.516255e+00  1.415869e+00   \n",
       "min         0.000000 -5.640751e+01 -7.271573e+01 -4.832559e+01 -5.683171e+00   \n",
       "25%     54201.500000 -9.203734e-01 -5.985499e-01 -8.903648e-01 -8.486401e-01   \n",
       "50%     84692.000000  1.810880e-02  6.548556e-02  1.798463e-01 -1.984653e-02   \n",
       "75%    139320.500000  1.315642e+00  8.037239e-01  1.027196e+00  7.433413e-01   \n",
       "max    172792.000000  2.454930e+00  2.205773e+01  9.382558e+00  1.687534e+01   \n",
       "\n",
       "                 V5            V6            V7            V8            V9  \\\n",
       "count  2.848070e+05  2.848070e+05  2.848070e+05  2.848070e+05  2.848070e+05   \n",
       "mean   9.604066e-16  1.487313e-15 -5.556467e-16  1.213481e-16 -2.406331e-15   \n",
       "std    1.380247e+00  1.332271e+00  1.237094e+00  1.194353e+00  1.098632e+00   \n",
       "min   -1.137433e+02 -2.616051e+01 -4.355724e+01 -7.321672e+01 -1.343407e+01   \n",
       "25%   -6.915971e-01 -7.682956e-01 -5.540759e-01 -2.086297e-01 -6.430976e-01   \n",
       "50%   -5.433583e-02 -2.741871e-01  4.010308e-02  2.235804e-02 -5.142873e-02   \n",
       "75%    6.119264e-01  3.985649e-01  5.704361e-01  3.273459e-01  5.971390e-01   \n",
       "max    3.480167e+01  7.330163e+01  1.205895e+02  2.000721e+01  1.559499e+01   \n",
       "\n",
       "       ...           V21           V22           V23           V24  \\\n",
       "count  ...  2.848070e+05  2.848070e+05  2.848070e+05  2.848070e+05   \n",
       "mean   ...  1.654067e-16 -3.568593e-16  2.578648e-16  4.473266e-15   \n",
       "std    ...  7.345240e-01  7.257016e-01  6.244603e-01  6.056471e-01   \n",
       "min    ... -3.483038e+01 -1.093314e+01 -4.480774e+01 -2.836627e+00   \n",
       "25%    ... -2.283949e-01 -5.423504e-01 -1.618463e-01 -3.545861e-01   \n",
       "50%    ... -2.945017e-02  6.781943e-03 -1.119293e-02  4.097606e-02   \n",
       "75%    ...  1.863772e-01  5.285536e-01  1.476421e-01  4.395266e-01   \n",
       "max    ...  2.720284e+01  1.050309e+01  2.252841e+01  4.584549e+00   \n",
       "\n",
       "                V25           V26           V27           V28         Amount  \\\n",
       "count  2.848070e+05  2.848070e+05  2.848070e+05  2.848070e+05  284807.000000   \n",
       "mean   5.340915e-16  1.683437e-15 -3.660091e-16 -1.227390e-16      88.349619   \n",
       "std    5.212781e-01  4.822270e-01  4.036325e-01  3.300833e-01     250.120109   \n",
       "min   -1.029540e+01 -2.604551e+00 -2.256568e+01 -1.543008e+01       0.000000   \n",
       "25%   -3.171451e-01 -3.269839e-01 -7.083953e-02 -5.295979e-02       5.600000   \n",
       "50%    1.659350e-02 -5.213911e-02  1.342146e-03  1.124383e-02      22.000000   \n",
       "75%    3.507156e-01  2.409522e-01  9.104512e-02  7.827995e-02      77.165000   \n",
       "max    7.519589e+00  3.517346e+00  3.161220e+01  3.384781e+01   25691.160000   \n",
       "\n",
       "               Class  \n",
       "count  284807.000000  \n",
       "mean        0.001727  \n",
       "std         0.041527  \n",
       "min         0.000000  \n",
       "25%         0.000000  \n",
       "50%         0.000000  \n",
       "75%         0.000000  \n",
       "max         1.000000  \n",
       "\n",
       "[8 rows x 31 columns]"
      ]
     },
     "execution_count": 7,
     "metadata": {},
     "output_type": "execute_result"
    }
   ],
   "source": [
    "data.describe()"
   ]
  },
  {
   "cell_type": "markdown",
   "id": "4a89440c",
   "metadata": {
    "papermill": {
     "duration": 0.010745,
     "end_time": "2023-01-30T22:31:22.698246",
     "exception": false,
     "start_time": "2023-01-30T22:31:22.687501",
     "status": "completed"
    },
    "tags": []
   },
   "source": [
    "## Visualization // data explanation\n"
   ]
  },
  {
   "cell_type": "code",
   "execution_count": 8,
   "id": "60354298",
   "metadata": {
    "execution": {
     "iopub.execute_input": "2023-01-30T22:31:22.722181Z",
     "iopub.status.busy": "2023-01-30T22:31:22.721408Z",
     "iopub.status.idle": "2023-01-30T22:31:22.748665Z",
     "shell.execute_reply": "2023-01-30T22:31:22.747523Z"
    },
    "papermill": {
     "duration": 0.041812,
     "end_time": "2023-01-30T22:31:22.750943",
     "exception": false,
     "start_time": "2023-01-30T22:31:22.709131",
     "status": "completed"
    },
    "tags": []
   },
   "outputs": [
    {
     "data": {
      "text/html": [
       "<div>\n",
       "<style scoped>\n",
       "    .dataframe tbody tr th:only-of-type {\n",
       "        vertical-align: middle;\n",
       "    }\n",
       "\n",
       "    .dataframe tbody tr th {\n",
       "        vertical-align: top;\n",
       "    }\n",
       "\n",
       "    .dataframe thead th {\n",
       "        text-align: right;\n",
       "    }\n",
       "</style>\n",
       "<table border=\"1\" class=\"dataframe\">\n",
       "  <thead>\n",
       "    <tr style=\"text-align: right;\">\n",
       "      <th></th>\n",
       "      <th>Class</th>\n",
       "      <th>Time</th>\n",
       "      <th>Amount</th>\n",
       "    </tr>\n",
       "  </thead>\n",
       "  <tbody>\n",
       "    <tr>\n",
       "      <th>0</th>\n",
       "      <td>0</td>\n",
       "      <td>94838.20</td>\n",
       "      <td>88.29</td>\n",
       "    </tr>\n",
       "    <tr>\n",
       "      <th>1</th>\n",
       "      <td>1</td>\n",
       "      <td>80746.81</td>\n",
       "      <td>122.21</td>\n",
       "    </tr>\n",
       "  </tbody>\n",
       "</table>\n",
       "</div>"
      ],
      "text/plain": [
       "   Class      Time  Amount\n",
       "0      0  94838.20   88.29\n",
       "1      1  80746.81  122.21"
      ]
     },
     "execution_count": 8,
     "metadata": {},
     "output_type": "execute_result"
    }
   ],
   "source": [
    "data.groupby('Class', as_index=False)[['Time','Amount']].mean().round(2)"
   ]
  },
  {
   "cell_type": "code",
   "execution_count": 9,
   "id": "a5a39bc7",
   "metadata": {
    "execution": {
     "iopub.execute_input": "2023-01-30T22:31:22.775757Z",
     "iopub.status.busy": "2023-01-30T22:31:22.774643Z",
     "iopub.status.idle": "2023-01-30T22:31:22.785942Z",
     "shell.execute_reply": "2023-01-30T22:31:22.785004Z"
    },
    "papermill": {
     "duration": 0.025983,
     "end_time": "2023-01-30T22:31:22.788021",
     "exception": false,
     "start_time": "2023-01-30T22:31:22.762038",
     "status": "completed"
    },
    "tags": []
   },
   "outputs": [
    {
     "data": {
      "text/plain": [
       "0    284315\n",
       "1       492\n",
       "Name: Class, dtype: int64"
      ]
     },
     "execution_count": 9,
     "metadata": {},
     "output_type": "execute_result"
    }
   ],
   "source": [
    "data['Class'].value_counts()"
   ]
  },
  {
   "cell_type": "markdown",
   "id": "952c0443",
   "metadata": {
    "papermill": {
     "duration": 0.010973,
     "end_time": "2023-01-30T22:31:22.810397",
     "exception": false,
     "start_time": "2023-01-30T22:31:22.799424",
     "status": "completed"
    },
    "tags": []
   },
   "source": [
    "* 0 >> represents normal transactions\n",
    "* 1 >> represents anomaly transactions"
   ]
  },
  {
   "cell_type": "code",
   "execution_count": 10,
   "id": "03d1aae1",
   "metadata": {
    "execution": {
     "iopub.execute_input": "2023-01-30T22:31:22.834284Z",
     "iopub.status.busy": "2023-01-30T22:31:22.833861Z",
     "iopub.status.idle": "2023-01-30T22:31:22.892692Z",
     "shell.execute_reply": "2023-01-30T22:31:22.891210Z"
    },
    "papermill": {
     "duration": 0.073983,
     "end_time": "2023-01-30T22:31:22.895461",
     "exception": false,
     "start_time": "2023-01-30T22:31:22.821478",
     "status": "completed"
    },
    "tags": []
   },
   "outputs": [],
   "source": [
    "normal = data[data.Class == 0]\n",
    "fraud  = data[data.Class == 1]"
   ]
  },
  {
   "cell_type": "code",
   "execution_count": 11,
   "id": "be518124",
   "metadata": {
    "execution": {
     "iopub.execute_input": "2023-01-30T22:31:22.921299Z",
     "iopub.status.busy": "2023-01-30T22:31:22.920843Z",
     "iopub.status.idle": "2023-01-30T22:31:22.947284Z",
     "shell.execute_reply": "2023-01-30T22:31:22.945951Z"
    },
    "papermill": {
     "duration": 0.042932,
     "end_time": "2023-01-30T22:31:22.950179",
     "exception": false,
     "start_time": "2023-01-30T22:31:22.907247",
     "status": "completed"
    },
    "tags": []
   },
   "outputs": [
    {
     "data": {
      "text/plain": [
       "count    284315.000000\n",
       "mean         88.291022\n",
       "std         250.105092\n",
       "min           0.000000\n",
       "25%           5.650000\n",
       "50%          22.000000\n",
       "75%          77.050000\n",
       "max       25691.160000\n",
       "Name: Amount, dtype: float64"
      ]
     },
     "execution_count": 11,
     "metadata": {},
     "output_type": "execute_result"
    }
   ],
   "source": [
    "normal.Amount.describe()"
   ]
  },
  {
   "cell_type": "code",
   "execution_count": 12,
   "id": "34015c8d",
   "metadata": {
    "execution": {
     "iopub.execute_input": "2023-01-30T22:31:22.975975Z",
     "iopub.status.busy": "2023-01-30T22:31:22.975448Z",
     "iopub.status.idle": "2023-01-30T22:31:22.988922Z",
     "shell.execute_reply": "2023-01-30T22:31:22.987775Z"
    },
    "papermill": {
     "duration": 0.028916,
     "end_time": "2023-01-30T22:31:22.991419",
     "exception": false,
     "start_time": "2023-01-30T22:31:22.962503",
     "status": "completed"
    },
    "tags": []
   },
   "outputs": [
    {
     "data": {
      "text/plain": [
       "count     492.000000\n",
       "mean      122.211321\n",
       "std       256.683288\n",
       "min         0.000000\n",
       "25%         1.000000\n",
       "50%         9.250000\n",
       "75%       105.890000\n",
       "max      2125.870000\n",
       "Name: Amount, dtype: float64"
      ]
     },
     "execution_count": 12,
     "metadata": {},
     "output_type": "execute_result"
    }
   ],
   "source": [
    "fraud.Amount.describe()"
   ]
  },
  {
   "cell_type": "code",
   "execution_count": 13,
   "id": "700ef13d",
   "metadata": {
    "execution": {
     "iopub.execute_input": "2023-01-30T22:31:23.017076Z",
     "iopub.status.busy": "2023-01-30T22:31:23.016643Z",
     "iopub.status.idle": "2023-01-30T22:31:23.389751Z",
     "shell.execute_reply": "2023-01-30T22:31:23.388717Z"
    },
    "papermill": {
     "duration": 0.388772,
     "end_time": "2023-01-30T22:31:23.392355",
     "exception": false,
     "start_time": "2023-01-30T22:31:23.003583",
     "status": "completed"
    },
    "tags": []
   },
   "outputs": [
    {
     "data": {
      "text/plain": [
       "Text(0, 0.5, 'Amount')"
      ]
     },
     "execution_count": 13,
     "metadata": {},
     "output_type": "execute_result"
    },
    {
     "data": {
      "image/png": "[encoded data removed]",
      "text/plain": [
       "<Figure size 720x360 with 1 Axes>"
      ]
     },
     "metadata": {
      "needs_background": "light"
     },
     "output_type": "display_data"
    }
   ],
   "source": [
    "fig, ax = plt.subplots()\n",
    "fig.set_size_inches(10, 5)\n",
    "plt.plot(data['Time'], data['Amount'])\n",
    "plt.xlabel(\"Time\")\n",
    "plt.ylabel(\"Amount\")"
   ]
  },
  {
   "cell_type": "code",
   "execution_count": 14,
   "id": "88c7f822",
   "metadata": {
    "execution": {
     "iopub.execute_input": "2023-01-30T22:31:23.418466Z",
     "iopub.status.busy": "2023-01-30T22:31:23.418065Z",
     "iopub.status.idle": "2023-01-30T22:31:25.028087Z",
     "shell.execute_reply": "2023-01-30T22:31:25.026948Z"
    },
    "papermill": {
     "duration": 1.626063,
     "end_time": "2023-01-30T22:31:25.030618",
     "exception": false,
     "start_time": "2023-01-30T22:31:23.404555",
     "status": "completed"
    },
    "tags": []
   },
   "outputs": [
    {
     "data": {
      "text/plain": [
       "<AxesSubplot:>"
      ]
     },
     "execution_count": 14,
     "metadata": {},
     "output_type": "execute_result"
    },
    {
     "data": {
      "image/png": "[encoded data removed]",
      "text/plain": [
       "<Figure size 792x648 with 2 Axes>"
      ]
     },
     "metadata": {
      "needs_background": "light"
     },
     "output_type": "display_data"
    }
   ],
   "source": [
    "corr = data.corr()\n",
    "mask = np.triu(np.ones_like(corr, dtype=bool))\n",
    "f, ax = plt.subplots(figsize=(11, 9))\n",
    "cmap = sns.diverging_palette(330, 200,s=50, as_cmap=True)\n",
    "sns.heatmap(corr, mask=mask, cmap=cmap, vmax=.5, center=0,\n",
    "            square=True, linewidths=.5, cbar_kws={\"shrink\": .5})"
   ]
  },
  {
   "cell_type": "markdown",
   "id": "7e24ed32",
   "metadata": {
    "papermill": {
     "duration": 0.013551,
     "end_time": "2023-01-30T22:31:25.056909",
     "exception": false,
     "start_time": "2023-01-30T22:31:25.043358",
     "status": "completed"
    },
    "tags": []
   },
   "source": [
    "## Model data prepartion"
   ]
  },
  {
   "cell_type": "code",
   "execution_count": 15,
   "id": "c80c63f9",
   "metadata": {
    "execution": {
     "iopub.execute_input": "2023-01-30T22:31:25.085809Z",
     "iopub.status.busy": "2023-01-30T22:31:25.085090Z",
     "iopub.status.idle": "2023-01-30T22:31:25.681352Z",
     "shell.execute_reply": "2023-01-30T22:31:25.679957Z"
    },
    "papermill": {
     "duration": 0.614033,
     "end_time": "2023-01-30T22:31:25.684478",
     "exception": false,
     "start_time": "2023-01-30T22:31:25.070445",
     "status": "completed"
    },
    "tags": []
   },
   "outputs": [],
   "source": [
    "from sklearn.model_selection import train_test_split\n",
    "from sklearn.linear_model import LogisticRegression\n",
    "from sklearn.neighbors import KNeighborsClassifier\n",
    "from sklearn.ensemble import RandomForestClassifier\n",
    "from sklearn.svm import LinearSVC\n",
    "from sklearn.pipeline import Pipeline \n",
    "from sklearn.preprocessing import StandardScaler"
   ]
  },
  {
   "cell_type": "code",
   "execution_count": 16,
   "id": "a5d0ba07",
   "metadata": {
    "execution": {
     "iopub.execute_input": "2023-01-30T22:31:25.711808Z",
     "iopub.status.busy": "2023-01-30T22:31:25.711350Z",
     "iopub.status.idle": "2023-01-30T22:31:25.716554Z",
     "shell.execute_reply": "2023-01-30T22:31:25.715715Z"
    },
    "papermill": {
     "duration": 0.021573,
     "end_time": "2023-01-30T22:31:25.718790",
     "exception": false,
     "start_time": "2023-01-30T22:31:25.697217",
     "status": "completed"
    },
    "tags": []
   },
   "outputs": [],
   "source": [
    "from sklearn.metrics import classification_report, confusion_matrix, accuracy_score"
   ]
  },
  {
   "cell_type": "markdown",
   "id": "c2ad2610",
   "metadata": {
    "papermill": {
     "duration": 0.012207,
     "end_time": "2023-01-30T22:31:25.743503",
     "exception": false,
     "start_time": "2023-01-30T22:31:25.731296",
     "status": "completed"
    },
    "tags": []
   },
   "source": [
    "Creating a sample with equal proportions of normal transactions and anomaly transactions"
   ]
  },
  {
   "cell_type": "code",
   "execution_count": 17,
   "id": "212652a7",
   "metadata": {
    "execution": {
     "iopub.execute_input": "2023-01-30T22:31:25.770998Z",
     "iopub.status.busy": "2023-01-30T22:31:25.770333Z",
     "iopub.status.idle": "2023-01-30T22:31:25.790280Z",
     "shell.execute_reply": "2023-01-30T22:31:25.788913Z"
    },
    "papermill": {
     "duration": 0.036812,
     "end_time": "2023-01-30T22:31:25.792872",
     "exception": false,
     "start_time": "2023-01-30T22:31:25.756060",
     "status": "completed"
    },
    "tags": []
   },
   "outputs": [
    {
     "data": {
      "text/plain": [
       "0    492\n",
       "1    492\n",
       "Name: Class, dtype: int64"
      ]
     },
     "execution_count": 17,
     "metadata": {},
     "output_type": "execute_result"
    }
   ],
   "source": [
    "normalSample = normal.sample(n=492)\n",
    "sampledData = pd.concat([normalSample, fraud], axis = 0)\n",
    "sampledData['Class'].value_counts()"
   ]
  },
  {
   "cell_type": "code",
   "execution_count": 18,
   "id": "457cf82e",
   "metadata": {
    "execution": {
     "iopub.execute_input": "2023-01-30T22:31:25.820276Z",
     "iopub.status.busy": "2023-01-30T22:31:25.819835Z",
     "iopub.status.idle": "2023-01-30T22:31:25.825609Z",
     "shell.execute_reply": "2023-01-30T22:31:25.824795Z"
    },
    "papermill": {
     "duration": 0.022102,
     "end_time": "2023-01-30T22:31:25.827844",
     "exception": false,
     "start_time": "2023-01-30T22:31:25.805742",
     "status": "completed"
    },
    "tags": []
   },
   "outputs": [],
   "source": [
    "X=sampledData.drop(columns=\"Class\", axis=1)\n",
    "y=sampledData['Class']"
   ]
  },
  {
   "cell_type": "code",
   "execution_count": 19,
   "id": "0922795f",
   "metadata": {
    "execution": {
     "iopub.execute_input": "2023-01-30T22:31:25.856799Z",
     "iopub.status.busy": "2023-01-30T22:31:25.856062Z",
     "iopub.status.idle": "2023-01-30T22:31:25.865224Z",
     "shell.execute_reply": "2023-01-30T22:31:25.864013Z"
    },
    "papermill": {
     "duration": 0.026191,
     "end_time": "2023-01-30T22:31:25.868163",
     "exception": false,
     "start_time": "2023-01-30T22:31:25.841972",
     "status": "completed"
    },
    "tags": []
   },
   "outputs": [],
   "source": [
    "x_train, x_test, y_train, y_test = train_test_split(X,y, test_size=0.2, stratify=y,\n",
    "                                                   random_state=42)"
   ]
  },
  {
   "cell_type": "code",
   "execution_count": 20,
   "id": "8bebc6bb",
   "metadata": {
    "execution": {
     "iopub.execute_input": "2023-01-30T22:31:25.894967Z",
     "iopub.status.busy": "2023-01-30T22:31:25.894538Z",
     "iopub.status.idle": "2023-01-30T22:31:25.900389Z",
     "shell.execute_reply": "2023-01-30T22:31:25.899302Z"
    },
    "papermill": {
     "duration": 0.022352,
     "end_time": "2023-01-30T22:31:25.903099",
     "exception": false,
     "start_time": "2023-01-30T22:31:25.880747",
     "status": "completed"
    },
    "tags": []
   },
   "outputs": [
    {
     "name": "stdout",
     "output_type": "stream",
     "text": [
      "(787, 30) \n",
      " (197, 30)\n"
     ]
    }
   ],
   "source": [
    "print(x_train.shape,'\\n', x_test.shape)"
   ]
  },
  {
   "cell_type": "markdown",
   "id": "c17969cc",
   "metadata": {
    "papermill": {
     "duration": 0.012434,
     "end_time": "2023-01-30T22:31:25.928283",
     "exception": false,
     "start_time": "2023-01-30T22:31:25.915849",
     "status": "completed"
    },
    "tags": []
   },
   "source": [
    "## Model implementation and evaluation"
   ]
  },
  {
   "cell_type": "code",
   "execution_count": 21,
   "id": "c1ef3f8b",
   "metadata": {
    "execution": {
     "iopub.execute_input": "2023-01-30T22:31:25.956405Z",
     "iopub.status.busy": "2023-01-30T22:31:25.955097Z",
     "iopub.status.idle": "2023-01-30T22:31:26.135013Z",
     "shell.execute_reply": "2023-01-30T22:31:26.133400Z"
    },
    "papermill": {
     "duration": 0.198072,
     "end_time": "2023-01-30T22:31:26.139288",
     "exception": false,
     "start_time": "2023-01-30T22:31:25.941216",
     "status": "completed"
    },
    "tags": []
   },
   "outputs": [],
   "source": [
    "LRC = LogisticRegression(max_iter=1000).fit(x_train, y_train)\n",
    "KNN = KNeighborsClassifier().fit(x_train, y_train)\n",
    "RFC = RandomForestClassifier(n_estimators=7, max_depth=4).fit(x_train, y_train)\n",
    "SVC = Pipeline([\n",
    "    ('scaler', StandardScaler()),\n",
    "    ('linear_svc', LinearSVC(C=0.01,loss='hinge'))   \n",
    "]).fit(x_train, y_train)"
   ]
  },
  {
   "cell_type": "markdown",
   "id": "c1ab1199",
   "metadata": {
    "papermill": {
     "duration": 0.026273,
     "end_time": "2023-01-30T22:31:26.197890",
     "exception": false,
     "start_time": "2023-01-30T22:31:26.171617",
     "status": "completed"
    },
    "tags": []
   },
   "source": [
    "#### Training predictions"
   ]
  },
  {
   "cell_type": "code",
   "execution_count": 22,
   "id": "890c7485",
   "metadata": {
    "execution": {
     "iopub.execute_input": "2023-01-30T22:31:26.225148Z",
     "iopub.status.busy": "2023-01-30T22:31:26.224730Z",
     "iopub.status.idle": "2023-01-30T22:31:26.327824Z",
     "shell.execute_reply": "2023-01-30T22:31:26.326237Z"
    },
    "papermill": {
     "duration": 0.12173,
     "end_time": "2023-01-30T22:31:26.332271",
     "exception": false,
     "start_time": "2023-01-30T22:31:26.210541",
     "status": "completed"
    },
    "tags": []
   },
   "outputs": [],
   "source": [
    "LRC_train_predict = LRC.predict(x_train)\n",
    "KNN_train_predict = KNN.predict(x_train)\n",
    "RFC_train_predict = RFC.predict(x_train)\n",
    "SVC_train_predict = SVC.predict(x_train)"
   ]
  },
  {
   "cell_type": "code",
   "execution_count": 23,
   "id": "556821bd",
   "metadata": {
    "execution": {
     "iopub.execute_input": "2023-01-30T22:31:26.400114Z",
     "iopub.status.busy": "2023-01-30T22:31:26.399269Z",
     "iopub.status.idle": "2023-01-30T22:31:26.428777Z",
     "shell.execute_reply": "2023-01-30T22:31:26.427633Z"
    },
    "papermill": {
     "duration": 0.06822,
     "end_time": "2023-01-30T22:31:26.433117",
     "exception": false,
     "start_time": "2023-01-30T22:31:26.364897",
     "status": "completed"
    },
    "tags": []
   },
   "outputs": [
    {
     "name": "stdout",
     "output_type": "stream",
     "text": [
      "confusion matrix: \n",
      " [[378  37]\n",
      " [ 15 357]]\n",
      "\n",
      "Classification Report: \n",
      "               precision    recall  f1-score   support\n",
      "\n",
      "           0       0.96      0.91      0.94       415\n",
      "           1       0.91      0.96      0.93       372\n",
      "\n",
      "    accuracy                           0.93       787\n",
      "   macro avg       0.93      0.94      0.93       787\n",
      "weighted avg       0.94      0.93      0.93       787\n",
      "\n",
      "Accuracy: \n",
      " 0.93\n"
     ]
    }
   ],
   "source": [
    "#logistic regression evaluation\n",
    "result = confusion_matrix(LRC_train_predict,y_train)\n",
    "print(\"confusion matrix: \\n\",result)\n",
    "result1 = classification_report(LRC_train_predict,y_train)\n",
    "print ('\\nClassification Report: \\n',result1)\n",
    "result2 = accuracy_score(LRC_train_predict,y_train)\n",
    "print ('Accuracy: \\n',result2.round(2))"
   ]
  },
  {
   "cell_type": "code",
   "execution_count": 24,
   "id": "44d654fc",
   "metadata": {
    "execution": {
     "iopub.execute_input": "2023-01-30T22:31:26.468940Z",
     "iopub.status.busy": "2023-01-30T22:31:26.468523Z",
     "iopub.status.idle": "2023-01-30T22:31:26.483397Z",
     "shell.execute_reply": "2023-01-30T22:31:26.481592Z"
    },
    "papermill": {
     "duration": 0.032452,
     "end_time": "2023-01-30T22:31:26.486876",
     "exception": false,
     "start_time": "2023-01-30T22:31:26.454424",
     "status": "completed"
    },
    "tags": []
   },
   "outputs": [
    {
     "name": "stdout",
     "output_type": "stream",
     "text": [
      "confusion matrix: \n",
      " [[304 102]\n",
      " [ 89 292]]\n",
      "\n",
      "Classification Report: \n",
      "               precision    recall  f1-score   support\n",
      "\n",
      "           0       0.77      0.75      0.76       406\n",
      "           1       0.74      0.77      0.75       381\n",
      "\n",
      "    accuracy                           0.76       787\n",
      "   macro avg       0.76      0.76      0.76       787\n",
      "weighted avg       0.76      0.76      0.76       787\n",
      "\n",
      "Accuracy: \n",
      " 0.76\n"
     ]
    }
   ],
   "source": [
    "# K nearest neighbr evaluation\n",
    "result = confusion_matrix(KNN_train_predict,y_train)\n",
    "print(\"confusion matrix: \\n\",result)\n",
    "result1 = classification_report(KNN_train_predict,y_train)\n",
    "print ('\\nClassification Report: \\n',result1)\n",
    "result2 = accuracy_score(KNN_train_predict,y_train)\n",
    "print ('Accuracy: \\n',result2.round(2))"
   ]
  },
  {
   "cell_type": "code",
   "execution_count": 25,
   "id": "cd1fada3",
   "metadata": {
    "execution": {
     "iopub.execute_input": "2023-01-30T22:31:26.515494Z",
     "iopub.status.busy": "2023-01-30T22:31:26.514697Z",
     "iopub.status.idle": "2023-01-30T22:31:26.529204Z",
     "shell.execute_reply": "2023-01-30T22:31:26.527663Z"
    },
    "papermill": {
     "duration": 0.032062,
     "end_time": "2023-01-30T22:31:26.532122",
     "exception": false,
     "start_time": "2023-01-30T22:31:26.500060",
     "status": "completed"
    },
    "tags": []
   },
   "outputs": [
    {
     "name": "stdout",
     "output_type": "stream",
     "text": [
      "confusion matrix: \n",
      " [[388  41]\n",
      " [  5 353]]\n",
      "\n",
      "Classification Report: \n",
      "               precision    recall  f1-score   support\n",
      "\n",
      "           0       0.99      0.90      0.94       429\n",
      "           1       0.90      0.99      0.94       358\n",
      "\n",
      "    accuracy                           0.94       787\n",
      "   macro avg       0.94      0.95      0.94       787\n",
      "weighted avg       0.95      0.94      0.94       787\n",
      "\n",
      "Accuracy: \n",
      " 0.94\n"
     ]
    }
   ],
   "source": [
    "# Random forest classifier  evaluation\n",
    "result = confusion_matrix(RFC_train_predict,y_train)\n",
    "print(\"confusion matrix: \\n\",result)\n",
    "result1 = classification_report(RFC_train_predict,y_train)\n",
    "print ('\\nClassification Report: \\n',result1)\n",
    "result2 = accuracy_score(RFC_train_predict,y_train)\n",
    "print ('Accuracy: \\n',result2.round(2))"
   ]
  },
  {
   "cell_type": "code",
   "execution_count": 26,
   "id": "1e179a7e",
   "metadata": {
    "execution": {
     "iopub.execute_input": "2023-01-30T22:31:26.560394Z",
     "iopub.status.busy": "2023-01-30T22:31:26.559956Z",
     "iopub.status.idle": "2023-01-30T22:31:26.574443Z",
     "shell.execute_reply": "2023-01-30T22:31:26.572725Z"
    },
    "papermill": {
     "duration": 0.031923,
     "end_time": "2023-01-30T22:31:26.577247",
     "exception": false,
     "start_time": "2023-01-30T22:31:26.545324",
     "status": "completed"
    },
    "tags": []
   },
   "outputs": [
    {
     "name": "stdout",
     "output_type": "stream",
     "text": [
      "confusion matrix: \n",
      " [[393  69]\n",
      " [  0 325]]\n",
      "\n",
      "Classification Report: \n",
      "               precision    recall  f1-score   support\n",
      "\n",
      "           0       1.00      0.85      0.92       462\n",
      "           1       0.82      1.00      0.90       325\n",
      "\n",
      "    accuracy                           0.91       787\n",
      "   macro avg       0.91      0.93      0.91       787\n",
      "weighted avg       0.93      0.91      0.91       787\n",
      "\n",
      "Accuracy: \n",
      " 0.91\n"
     ]
    }
   ],
   "source": [
    "# Support vercor classifier evaluation\n",
    "result = confusion_matrix(SVC_train_predict,y_train)\n",
    "print(\"confusion matrix: \\n\",result)\n",
    "result1 = classification_report(SVC_train_predict,y_train)\n",
    "print ('\\nClassification Report: \\n',result1)\n",
    "result2 = accuracy_score(SVC_train_predict,y_train)\n",
    "print ('Accuracy: \\n',result2.round(2))"
   ]
  },
  {
   "cell_type": "markdown",
   "id": "52cb9e0c",
   "metadata": {
    "papermill": {
     "duration": 0.012571,
     "end_time": "2023-01-30T22:31:26.603034",
     "exception": false,
     "start_time": "2023-01-30T22:31:26.590463",
     "status": "completed"
    },
    "tags": []
   },
   "source": [
    "#### Test predictions"
   ]
  },
  {
   "cell_type": "code",
   "execution_count": 27,
   "id": "2292fca9",
   "metadata": {
    "execution": {
     "iopub.execute_input": "2023-01-30T22:31:26.631055Z",
     "iopub.status.busy": "2023-01-30T22:31:26.630208Z",
     "iopub.status.idle": "2023-01-30T22:31:26.692138Z",
     "shell.execute_reply": "2023-01-30T22:31:26.690285Z"
    },
    "papermill": {
     "duration": 0.08134,
     "end_time": "2023-01-30T22:31:26.697247",
     "exception": false,
     "start_time": "2023-01-30T22:31:26.615907",
     "status": "completed"
    },
    "tags": []
   },
   "outputs": [],
   "source": [
    "LRC_test_predict = LRC.predict(x_test)\n",
    "KNN_test_predict = KNN.predict(x_test)\n",
    "RFC_test_predict = RFC.predict(x_test)\n",
    "SVC_test_predict = SVC.predict(x_test)"
   ]
  },
  {
   "cell_type": "code",
   "execution_count": 28,
   "id": "611baeea",
   "metadata": {
    "execution": {
     "iopub.execute_input": "2023-01-30T22:31:26.778297Z",
     "iopub.status.busy": "2023-01-30T22:31:26.777842Z",
     "iopub.status.idle": "2023-01-30T22:31:26.792383Z",
     "shell.execute_reply": "2023-01-30T22:31:26.790526Z"
    },
    "papermill": {
     "duration": 0.040214,
     "end_time": "2023-01-30T22:31:26.795726",
     "exception": false,
     "start_time": "2023-01-30T22:31:26.755512",
     "status": "completed"
    },
    "tags": []
   },
   "outputs": [
    {
     "name": "stdout",
     "output_type": "stream",
     "text": [
      "confusion matrix: \n",
      " [[96  4]\n",
      " [ 3 94]]\n",
      "\n",
      "Classification Report: \n",
      "               precision    recall  f1-score   support\n",
      "\n",
      "           0       0.97      0.96      0.96       100\n",
      "           1       0.96      0.97      0.96        97\n",
      "\n",
      "    accuracy                           0.96       197\n",
      "   macro avg       0.96      0.96      0.96       197\n",
      "weighted avg       0.96      0.96      0.96       197\n",
      "\n",
      "Accuracy: \n",
      " 0.96\n"
     ]
    }
   ],
   "source": [
    "#logistic regression evaluation\n",
    "result = confusion_matrix(LRC_test_predict,y_test)\n",
    "print(\"confusion matrix: \\n\",result)\n",
    "result1 = classification_report(LRC_test_predict,y_test)\n",
    "print ('\\nClassification Report: \\n',result1)\n",
    "result2 = accuracy_score(LRC_test_predict,y_test)\n",
    "print ('Accuracy: \\n',result2.round(2))"
   ]
  },
  {
   "cell_type": "code",
   "execution_count": 29,
   "id": "d34b485d",
   "metadata": {
    "execution": {
     "iopub.execute_input": "2023-01-30T22:31:26.825885Z",
     "iopub.status.busy": "2023-01-30T22:31:26.824875Z",
     "iopub.status.idle": "2023-01-30T22:31:26.837146Z",
     "shell.execute_reply": "2023-01-30T22:31:26.835997Z"
    },
    "papermill": {
     "duration": 0.029117,
     "end_time": "2023-01-30T22:31:26.839586",
     "exception": false,
     "start_time": "2023-01-30T22:31:26.810469",
     "status": "completed"
    },
    "tags": []
   },
   "outputs": [
    {
     "name": "stdout",
     "output_type": "stream",
     "text": [
      "confusion matrix: \n",
      " [[63 32]\n",
      " [36 66]]\n",
      "\n",
      "Classification Report: \n",
      "               precision    recall  f1-score   support\n",
      "\n",
      "           0       0.64      0.66      0.65        95\n",
      "           1       0.67      0.65      0.66       102\n",
      "\n",
      "    accuracy                           0.65       197\n",
      "   macro avg       0.65      0.66      0.65       197\n",
      "weighted avg       0.66      0.65      0.65       197\n",
      "\n",
      "Accuracy: \n",
      " 0.65\n"
     ]
    }
   ],
   "source": [
    "# K nearest neighbr evaluation\n",
    "result = confusion_matrix(KNN_test_predict,y_test)\n",
    "print(\"confusion matrix: \\n\",result)\n",
    "result1 = classification_report(KNN_test_predict,y_test)\n",
    "print ('\\nClassification Report: \\n',result1)\n",
    "result2 = accuracy_score(KNN_test_predict,y_test)\n",
    "print ('Accuracy: \\n',result2.round(2))"
   ]
  },
  {
   "cell_type": "code",
   "execution_count": 30,
   "id": "40986fb5",
   "metadata": {
    "execution": {
     "iopub.execute_input": "2023-01-30T22:31:26.868967Z",
     "iopub.status.busy": "2023-01-30T22:31:26.867884Z",
     "iopub.status.idle": "2023-01-30T22:31:26.882262Z",
     "shell.execute_reply": "2023-01-30T22:31:26.880123Z"
    },
    "papermill": {
     "duration": 0.031888,
     "end_time": "2023-01-30T22:31:26.884969",
     "exception": false,
     "start_time": "2023-01-30T22:31:26.853081",
     "status": "completed"
    },
    "tags": []
   },
   "outputs": [
    {
     "name": "stdout",
     "output_type": "stream",
     "text": [
      "confusion matrix: \n",
      " [[97  8]\n",
      " [ 2 90]]\n",
      "\n",
      "Classification Report: \n",
      "               precision    recall  f1-score   support\n",
      "\n",
      "           0       0.98      0.92      0.95       105\n",
      "           1       0.92      0.98      0.95        92\n",
      "\n",
      "    accuracy                           0.95       197\n",
      "   macro avg       0.95      0.95      0.95       197\n",
      "weighted avg       0.95      0.95      0.95       197\n",
      "\n",
      "Accuracy: \n",
      " 0.95\n"
     ]
    }
   ],
   "source": [
    "# Random forest classifier  evaluation\n",
    "result = confusion_matrix(RFC_test_predict,y_test)\n",
    "print(\"confusion matrix: \\n\",result)\n",
    "result1 = classification_report(RFC_test_predict,y_test)\n",
    "print ('\\nClassification Report: \\n',result1)\n",
    "result2 = accuracy_score(RFC_test_predict,y_test)\n",
    "print ('Accuracy: \\n',result2.round(2))"
   ]
  },
  {
   "cell_type": "code",
   "execution_count": 31,
   "id": "6b04e711",
   "metadata": {
    "execution": {
     "iopub.execute_input": "2023-01-30T22:31:26.915003Z",
     "iopub.status.busy": "2023-01-30T22:31:26.914309Z",
     "iopub.status.idle": "2023-01-30T22:31:26.926859Z",
     "shell.execute_reply": "2023-01-30T22:31:26.925240Z"
    },
    "papermill": {
     "duration": 0.030545,
     "end_time": "2023-01-30T22:31:26.929424",
     "exception": false,
     "start_time": "2023-01-30T22:31:26.898879",
     "status": "completed"
    },
    "tags": []
   },
   "outputs": [
    {
     "name": "stdout",
     "output_type": "stream",
     "text": [
      "confusion matrix: \n",
      " [[99 13]\n",
      " [ 0 85]]\n",
      "\n",
      "Classification Report: \n",
      "               precision    recall  f1-score   support\n",
      "\n",
      "           0       1.00      0.88      0.94       112\n",
      "           1       0.87      1.00      0.93        85\n",
      "\n",
      "    accuracy                           0.93       197\n",
      "   macro avg       0.93      0.94      0.93       197\n",
      "weighted avg       0.94      0.93      0.93       197\n",
      "\n",
      "Accuracy: \n",
      " 0.93\n"
     ]
    }
   ],
   "source": [
    "# Support vercor classifier evaluation\n",
    "result = confusion_matrix(SVC_test_predict,y_test)\n",
    "print(\"confusion matrix: \\n\",result)\n",
    "result1 = classification_report(SVC_test_predict,y_test)\n",
    "print ('\\nClassification Report: \\n',result1)\n",
    "result2 = accuracy_score(SVC_test_predict,y_test)\n",
    "print ('Accuracy: \\n',result2.round(2))"
   ]
  },
  {
   "cell_type": "markdown",
   "id": "3aa0d0af",
   "metadata": {
    "papermill": {
     "duration": 0.013281,
     "end_time": "2023-01-30T22:31:26.956333",
     "exception": false,
     "start_time": "2023-01-30T22:31:26.943052",
     "status": "completed"
    },
    "tags": []
   },
   "source": [
    "## Observastions "
   ]
  },
  {
   "cell_type": "markdown",
   "id": "34106267",
   "metadata": {
    "papermill": {
     "duration": 0.013811,
     "end_time": "2023-01-30T22:31:26.985311",
     "exception": false,
     "start_time": "2023-01-30T22:31:26.971500",
     "status": "completed"
    },
    "tags": []
   },
   "source": [
    "1. Logistic regressionis better in training set than test set >> probability of overfitting\n",
    "2. KNN showed the lowest scores in both training set and test set\n",
    "3. Random forest is doing the best comparing traing evaluation scores to test evaluation scores>>> recall is 99% for anomaly cases \n",
    "4. Support vector machine is not the worest but not the best; recall is low in normal cases and precision is low in anomaly cases\n"
   ]
  },
  {
   "cell_type": "markdown",
   "id": "7e15e208",
   "metadata": {
    "papermill": {
     "duration": 0.01284,
     "end_time": "2023-01-30T22:31:27.011492",
     "exception": false,
     "start_time": "2023-01-30T22:31:26.998652",
     "status": "completed"
    },
    "tags": []
   },
   "source": [
    "## ROC curve for random forest model"
   ]
  },
  {
   "cell_type": "code",
   "execution_count": 32,
   "id": "9a9cb373",
   "metadata": {
    "execution": {
     "iopub.execute_input": "2023-01-30T22:31:27.040458Z",
     "iopub.status.busy": "2023-01-30T22:31:27.039416Z",
     "iopub.status.idle": "2023-01-30T22:31:27.048437Z",
     "shell.execute_reply": "2023-01-30T22:31:27.047072Z"
    },
    "papermill": {
     "duration": 0.02633,
     "end_time": "2023-01-30T22:31:27.051024",
     "exception": false,
     "start_time": "2023-01-30T22:31:27.024694",
     "status": "completed"
    },
    "tags": []
   },
   "outputs": [
    {
     "name": "stdout",
     "output_type": "stream",
     "text": [
      "AUC: 0.951\n"
     ]
    }
   ],
   "source": [
    "from sklearn import metrics\n",
    "fpr, tpr, thresholds = metrics.roc_curve(RFC_test_predict,  y_test)\n",
    "auc = metrics.roc_auc_score(RFC_test_predict,  y_test)\n",
    "print('AUC: %.3f' % auc)"
   ]
  },
  {
   "cell_type": "code",
   "execution_count": 33,
   "id": "84931175",
   "metadata": {
    "execution": {
     "iopub.execute_input": "2023-01-30T22:31:27.079361Z",
     "iopub.status.busy": "2023-01-30T22:31:27.078936Z",
     "iopub.status.idle": "2023-01-30T22:31:27.227121Z",
     "shell.execute_reply": "2023-01-30T22:31:27.225915Z"
    },
    "papermill": {
     "duration": 0.165072,
     "end_time": "2023-01-30T22:31:27.229539",
     "exception": false,
     "start_time": "2023-01-30T22:31:27.064467",
     "status": "completed"
    },
    "tags": []
   },
   "outputs": [
    {
     "data": {
      "image/png": "[encoded data removed]",
      "text/plain": [
       "<Figure size 432x288 with 1 Axes>"
      ]
     },
     "metadata": {
      "needs_background": "light"
     },
     "output_type": "display_data"
    }
   ],
   "source": [
    "plt.plot(fpr,tpr,label=\"AUC=\"+str(auc))\n",
    "plt.ylabel('True Positive Rate')\n",
    "plt.xlabel('False Positive Rate')\n",
    "plt.legend()\n",
    "plt.show()"
   ]
  }
 ],
 "metadata": {
  "kernelspec": {
   "display_name": "Python 3",
   "language": "python",
   "name": "python3"
  },
  "language_info": {
   "codemirror_mode": {
    "name": "ipython",
    "version": 3
   },
   "file_extension": ".py",
   "mimetype": "text/x-python",
   "name": "python",
   "nbconvert_exporter": "python",
   "pygments_lexer": "ipython3",
   "version": "3.7.12"
  },
  "papermill": {
   "default_parameters": {},
   "duration": 23.125663,
   "end_time": "2023-01-30T22:31:28.165557",
   "environment_variables": {},
   "exception": null,
   "input_path": "__notebook__.ipynb",
   "output_path": "__notebook__.ipynb",
   "parameters": {},
   "start_time": "2023-01-30T22:31:05.039894",
   "version": "2.3.4"
  }
 },
 "nbformat": 4,
 "nbformat_minor": 5
}
